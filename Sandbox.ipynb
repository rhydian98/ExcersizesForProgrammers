{
 "cells": [
  {
   "cell_type": "markdown",
   "metadata": {},
   "source": [
    "# Excercise 1: Hello statement"
   ]
  },
  {
   "cell_type": "code",
   "execution_count": 2,
   "metadata": {},
   "outputs": [
    {
     "name": "stdout",
     "output_type": "stream",
     "text": [
      "What is your name:rhydian\n",
      "Hello rhydian ,nice to meet you\n"
     ]
    }
   ],
   "source": [
    "name = input(\"What is your name:\")\n",
    "hello_statement = \"Hello \" + name + \" ,nice to meet you\"\n",
    "print(hello_statement)"
   ]
  },
  {
   "cell_type": "markdown",
   "metadata": {},
   "source": [
    "# Excersise 2: Characters in a String"
   ]
  },
  {
   "cell_type": "code",
   "execution_count": 2,
   "metadata": {},
   "outputs": [
    {
     "name": "stdout",
     "output_type": "stream",
     "text": [
      "What is the input string: \n",
      "You must enter a String\n"
     ]
    }
   ],
   "source": [
    "user_in = input(\"What is the input string: \")\n",
    "if len(user_in) > 0:\n",
    "    print(user_in + \" has \" + str(len(user_in))+ \" characters\") \n",
    "else:\n",
    "    print(\"You must enter a String\")"
   ]
  },
  {
   "cell_type": "markdown",
   "metadata": {},
   "source": [
    "# Excersize 3: Printing Quotes"
   ]
  },
  {
   "cell_type": "code",
   "execution_count": 10,
   "metadata": {},
   "outputs": [
    {
     "name": "stdout",
     "output_type": "stream",
     "text": [
      "What is the quote: We will fight them on the beaches\n",
      "Who said it: Winston Churchill\n",
      "Winston Churchillsays, \" We will fight them on the beaches \"\n"
     ]
    }
   ],
   "source": [
    "def printingQuotes():\n",
    "    quote = input(\"What is the quote: \")\n",
    "    person = input(\"Who said it: \")\n",
    "    personandquote = person + ' says, \" ' + quote + ' \"'\n",
    "    return personandquote\n",
    "print(printingQuotes())\n",
    "    "
   ]
  },
  {
   "cell_type": "markdown",
   "metadata": {},
   "source": [
    "# Excercise 4: Mad Libs"
   ]
  },
  {
   "cell_type": "code",
   "execution_count": 17,
   "metadata": {},
   "outputs": [
    {
     "name": "stdout",
     "output_type": "stream",
     "text": [
      "Please enter a noun: poop\n",
      "Please enter a verb: pop\n",
      "Please enter a adjective: red\n",
      "Please enter a adverb: loudly\n",
      "Do you pop your red poop loudly? That's hilarious.\n"
     ]
    }
   ],
   "source": [
    "def MakeMadLib():\n",
    "    noun = input(\"Please enter a noun: \")\n",
    "    verb = input(\"Please enter a verb: \")\n",
    "    adjective = input(\"Please enter a adjective: \")\n",
    "    adverb = input(\"Please enter a adverb: \")\n",
    "    madLib = \"Do you %s your %s %s %s? That's hilarious!\"% (verb, adjective, noun, adverb)\n",
    "    return madLib\n",
    "print(MakeMadLib())"
   ]
  },
  {
   "cell_type": "markdown",
   "metadata": {},
   "source": [
    "# Excersize 5: Simple Math"
   ]
  },
  {
   "cell_type": "code",
   "execution_count": 8,
   "metadata": {},
   "outputs": [
    {
     "name": "stdout",
     "output_type": "stream",
     "text": [
      "What's the first number: 12\n",
      "What's the second number: 12\n",
      "12 + 12  =  24 \n",
      " 12 - 12  =  0 \n",
      " 12 * 12  =  144 \n",
      " 12 / 12  =  1.0 \n",
      "\n"
     ]
    }
   ],
   "source": [
    "num1 = int(input(\"What's the first number: \"))\n",
    "num2 = int(input(\"What's the second number: \"))\n",
    "numsum = num1 + num2\n",
    "negatenums = num1 - num2\n",
    "multnums = num1 * num2\n",
    "dividenums = num1 / num2\n",
    "\n",
    "print (num1, \"+\", num2, \" = \", numsum, \"\\n\",num1, \"-\", num2, \" = \", negatenums, \"\\n\",num1, \"*\", num2, \" = \", multnums, \"\\n\",num1, \"/\", num2, \" = \", dividenums, \"\\n\" )"
   ]
  },
  {
   "cell_type": "code",
   "execution_count": null,
   "metadata": {},
   "outputs": [],
   "source": []
  }
 ],
 "metadata": {
  "kernelspec": {
   "display_name": "Python 3",
   "language": "python",
   "name": "python3"
  },
  "language_info": {
   "codemirror_mode": {
    "name": "ipython",
    "version": 3
   },
   "file_extension": ".py",
   "mimetype": "text/x-python",
   "name": "python",
   "nbconvert_exporter": "python",
   "pygments_lexer": "ipython3",
   "version": "3.7.6"
  }
 },
 "nbformat": 4,
 "nbformat_minor": 4
}
