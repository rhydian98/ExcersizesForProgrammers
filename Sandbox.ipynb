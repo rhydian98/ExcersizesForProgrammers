{
 "cells": [
  {
   "cell_type": "markdown",
   "metadata": {},
   "source": [
    "# Excersise 1: Hello statement"
   ]
  },
  {
   "cell_type": "code",
   "execution_count": 2,
   "metadata": {},
   "outputs": [
    {
     "name": "stdout",
     "output_type": "stream",
     "text": [
      "What is your name:rhydian\n",
      "Hello rhydian ,nice to meet you\n"
     ]
    }
   ],
   "source": [
    "name = input(\"What is your name:\")\n",
    "hello_statement = \"Hello \" + name + \" ,nice to meet you\"\n",
    "print(hello_statement)"
   ]
  },
  {
   "cell_type": "markdown",
   "metadata": {},
   "source": [
    "# Excersise 2: Characters in a String"
   ]
  },
  {
   "cell_type": "code",
   "execution_count": 2,
   "metadata": {},
   "outputs": [
    {
     "name": "stdout",
     "output_type": "stream",
     "text": [
      "What is the input string: \n",
      "You must enter a String\n"
     ]
    }
   ],
   "source": [
    "user_in = input(\"What is the input string: \")\n",
    "if len(user_in) > 0:\n",
    "    print(user_in + \" has \" + str(len(user_in))+ \" characters\") \n",
    "else:\n",
    "    print(\"You must enter a String\")"
   ]
  },
  {
   "cell_type": "markdown",
   "metadata": {},
   "source": [
    "# Excersise 3: Printing Quotes"
   ]
  },
  {
   "cell_type": "code",
   "execution_count": 10,
   "metadata": {},
   "outputs": [
    {
     "name": "stdout",
     "output_type": "stream",
     "text": [
      "What is the quote: We will fight them on the beaches\n",
      "Who said it: Winston Churchill\n",
      "Winston Churchillsays, \" We will fight them on the beaches \"\n"
     ]
    }
   ],
   "source": [
    "def printingQuotes():\n",
    "    quote = input(\"What is the quote: \")\n",
    "    person = input(\"Who said it: \")\n",
    "    personandquote = person + ' says, \" ' + quote + ' \"'\n",
    "    return personandquote\n",
    "print(printingQuotes())\n",
    "    "
   ]
  },
  {
   "cell_type": "markdown",
   "metadata": {},
   "source": [
    "# Excercise 4: Mad Libs"
   ]
  },
  {
   "cell_type": "code",
   "execution_count": 17,
   "metadata": {},
   "outputs": [
    {
     "name": "stdout",
     "output_type": "stream",
     "text": [
      "Please enter a noun: poop\n",
      "Please enter a verb: pop\n",
      "Please enter a adjective: red\n",
      "Please enter a adverb: loudly\n",
      "Do you pop your red poop loudly? That's hilarious.\n"
     ]
    }
   ],
   "source": [
    "def MakeMadLib():\n",
    "    noun = input(\"Please enter a noun: \")\n",
    "    verb = input(\"Please enter a verb: \")\n",
    "    adjective = input(\"Please enter a adjective: \")\n",
    "    adverb = input(\"Please enter a adverb: \")\n",
    "    madLib = \"Do you %s your %s %s %s? That's hilarious!\"% (verb, adjective, noun, adverb)\n",
    "    return madLib\n",
    "print(MakeMadLib())"
   ]
  },
  {
   "cell_type": "markdown",
   "metadata": {},
   "source": [
    "# Excersise 5: Simple Math"
   ]
  },
  {
   "cell_type": "code",
   "execution_count": 8,
   "metadata": {},
   "outputs": [
    {
     "name": "stdout",
     "output_type": "stream",
     "text": [
      "What's the first number: 12\n",
      "What's the second number: 12\n",
      "12 + 12  =  24 \n",
      " 12 - 12  =  0 \n",
      " 12 * 12  =  144 \n",
      " 12 / 12  =  1.0 \n",
      "\n"
     ]
    }
   ],
   "source": [
    "num1 = int(input(\"What's the first number: \"))\n",
    "num2 = int(input(\"What's the second number: \"))\n",
    "numsum = num1 + num2\n",
    "negatenums = num1 - num2\n",
    "multnums = num1 * num2\n",
    "dividenums = num1 / num2\n",
    "\n",
    "print (num1, \"+\", num2, \" = \", numsum, \"\\n\",num1, \"-\", num2, \" = \", negatenums, \"\\n\",num1, \"*\", num2, \" = \", multnums, \"\\n\",num1, \"/\", num2, \" = \", dividenums, \"\\n\" )"
   ]
  },
  {
   "cell_type": "markdown",
   "metadata": {},
   "source": [
    "# Excersise 6: Retirement Calculator"
   ]
  },
  {
   "cell_type": "code",
   "execution_count": 8,
   "metadata": {},
   "outputs": [
    {
     "name": "stdout",
     "output_type": "stream",
     "text": [
      "What is your current age: 75\n",
      "At what age would you like to retire: 65\n",
      "You can already retire.\n"
     ]
    }
   ],
   "source": [
    "import datetime\n",
    "\n",
    "def retirmentCalculator():\n",
    "    age = input(\"What is your current age: \")\n",
    "    retAge = input(\"At what age would you like to retire: \")\n",
    "    timeToRetire = int(retAge) - int(age)\n",
    "    if timeToRetire <= 0:\n",
    "        print(\"You can already retire.\")\n",
    "    else:\n",
    "        year = datetime.datetime.now().year\n",
    "        retYear = int(year) + timeToRetire\n",
    "        print(\"It is %s, so you can retire in %s\" %(year, retYear))\n",
    "        \n",
    "retirmentCalculator()"
   ]
  },
  {
   "cell_type": "markdown",
   "metadata": {},
   "source": [
    "# Exercise 7: Area of a Rectangular Room"
   ]
  },
  {
   "cell_type": "code",
   "execution_count": 3,
   "metadata": {},
   "outputs": [
    {
     "name": "stdout",
     "output_type": "stream",
     "text": [
      "What is the length of your room in feet: 13\n",
      "What is the width of your room in Feet:10\n",
      "You entered dimensions of 13 feet by 10 feet\n",
      "The area is \n",
      " 130 square feet \n",
      " 12.077395 square meters\n"
     ]
    }
   ],
   "source": [
    "def areaOfRectRoom():\n",
    "    conversionFactor = 0.09290304\n",
    "    length = input(\"What is the length of your room in feet: \")\n",
    "    width = input(\"What is the width of your room in Feet:\")\n",
    "    areaf = int(length) * int(width)\n",
    "    aream = float(areaf) * conversionFactor\n",
    "    print(\"You entered dimensions of %s feet by %s feet\" %(length, width))\n",
    "    print(\"The area is \\n %s square feet \\n %f square meters\" %(str(areaf), aream))\n",
    "    \n",
    "areaOfRectRoom()"
   ]
  },
  {
   "cell_type": "markdown",
   "metadata": {},
   "source": [
    "# Exercise 8: Pizza Party"
   ]
  },
  {
   "cell_type": "code",
   "execution_count": 12,
   "metadata": {},
   "outputs": [
    {
     "name": "stdout",
     "output_type": "stream",
     "text": [
      "How many pizzas do you have: 3\n",
      "How many slices are there per pizza: 8\n",
      "How many people are there: 5\n",
      "You have 5 people \n",
      " and 3 pizzas with 8 slices each, \n",
      " that means each person gets 4 slices \n",
      " with 4 leftover\n"
     ]
    }
   ],
   "source": [
    "from math import floor\n",
    "\n",
    "def pizzaParty():\n",
    "    numPizza = int(input(\"How many pizzas do you have: \"))\n",
    "    numSlices = int(input(\"How many slices are there per pizza: \"))\n",
    "    numPeople = int(input(\"How many people are there: \"))\n",
    "    totalSlices = numPizza * numSlices\n",
    "    if (totalSlices%numPeople) != 0:\n",
    "        slicesPerPerson = floor(totalSlices/numPeople)\n",
    "        leftOver=totalSlices%numPeople\n",
    "    else:\n",
    "        slicesPerPerson = totalSlices/numPeople\n",
    "        leftOver = 0\n",
    "    print(\"You have %d people \\n and %d pizzas with %d slices each, \\n that means each person gets %d slices \\n with %d leftover\" % (numPeople,numPizza, numSlices,slicesPerPerson,leftOver))\n",
    "    \n",
    "pizzaParty()\n"
   ]
  },
  {
   "cell_type": "markdown",
   "metadata": {},
   "source": [
    "# Exercise 9: Paint Calculator"
   ]
  },
  {
   "cell_type": "code",
   "execution_count": 17,
   "metadata": {},
   "outputs": [
    {
     "name": "stdout",
     "output_type": "stream",
     "text": [
      "What is are (in square feet) that you need to paint: 340\n",
      "You will need 1 gallons of \n",
      " paint to cover 340 square feet\n"
     ]
    }
   ],
   "source": [
    "from math import ceil\n",
    "\n",
    "def paintCalculator():\n",
    "    sFootage = int(input(\"What is are (in square feet) that you need to paint: \"))\n",
    "    paintAmountNeeded = ceil(sFootage/350)\n",
    "    print(\"You will need %d gallons of \\n paint to cover %d square feet\" % (paintAmountNeeded, sFootage))\n",
    "    \n",
    "paintCalculator()"
   ]
  },
  {
   "cell_type": "markdown",
   "metadata": {},
   "source": [
    "# Exercise 10: Self Checkout"
   ]
  },
  {
   "cell_type": "code",
   "execution_count": 19,
   "metadata": {},
   "outputs": [
    {
     "name": "stdout",
     "output_type": "stream",
     "text": [
      "Please enter the price of the first item: 34\n",
      "Please enter the quantity of the first item:5\n",
      "Please enter the price of the second item: 2\n",
      "Please enter the quantity of the second item:10\n",
      "Please enter the price of the third item: 60\n",
      "Please enter the quantity of the third item:2\n",
      "Subtotal: 310.000000\n",
      "Tax: 17.050000\n",
      "Total: 327.050000\n"
     ]
    }
   ],
   "source": [
    "def selfCheckout():\n",
    "    price1 = float(input(\"Please enter the price of the first item: \"))\n",
    "    quant1 = float(input(\"Please enter the quantity of the first item:\"))\n",
    "    price2 = float(input(\"Please enter the price of the second item: \"))\n",
    "    quant2 = float(input(\"Please enter the quantity of the second item:\"))\n",
    "    price3 = float(input(\"Please enter the price of the third item: \"))\n",
    "    quant3 = float(input(\"Please enter the quantity of the third item:\"))\n",
    "    \n",
    "    totalBT = (price1 * quant1)+(price2 * quant2)+(price3 * quant3)\n",
    "    tax = (totalBT *(5.5/100))\n",
    "    totalWT = totalBT + tax\n",
    "    print(\"Subtotal: %f\" % totalBT)\n",
    "    print(\"Tax: %f\" % tax)\n",
    "    print(\"Total: %f\" % totalWT)\n",
    "\n",
    "selfCheckout()"
   ]
  },
  {
   "cell_type": "code",
   "execution_count": null,
   "metadata": {},
   "outputs": [],
   "source": []
  }
 ],
 "metadata": {
  "kernelspec": {
   "display_name": "Python 3",
   "language": "python",
   "name": "python3"
  },
  "language_info": {
   "codemirror_mode": {
    "name": "ipython",
    "version": 3
   },
   "file_extension": ".py",
   "mimetype": "text/x-python",
   "name": "python",
   "nbconvert_exporter": "python",
   "pygments_lexer": "ipython3",
   "version": "3.7.1"
  }
 },
 "nbformat": 4,
 "nbformat_minor": 4
}
